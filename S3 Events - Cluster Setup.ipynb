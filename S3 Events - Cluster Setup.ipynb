{
 "cells": [
  {
   "cell_type": "markdown",
   "id": "afeed859-8949-497e-abbb-14ea77f49a3d",
   "metadata": {},
   "source": [
    "# S3 Event notifications using VAST Event Broker and Database"
   ]
  },
  {
   "cell_type": "markdown",
   "id": "13a7a450-40df-4f1f-8a9f-787d1ae5307e",
   "metadata": {},
   "source": [
    "> [VAST DB Python SDK](https://vastdb-sdk.readthedocs.io/en/v1.1.0/index.html)<br>\n",
    "> [VAST DB SDK Github](https://github.com/vast-data/vastdb_sdk/tree/main)<br>\n",
    "> [Apache Arrow Documentation](https://arrow.apache.org/docs/python/api.html)<br>\n",
    "> [SE LAB Cluster 204](https://10.143.11.204/)"
   ]
  },
  {
   "cell_type": "markdown",
   "id": "3d180a18-453d-449d-968e-7ae9e80758ba",
   "metadata": {},
   "source": [
    ">  Date: 2025-06-02<br>\n",
    "<h2>Prerequisites</h2>\n",
    "> Vast Cluster with 5.3 or greater installed.<br>\n",
    "> VIP Pool configured and accessible from docker host<br>\n",
    "> VMS IP accessible from docker host<br>\n"
   ]
  },
  {
   "cell_type": "markdown",
   "id": "c9733f15-4f1f-4c57-908b-5761ddddb688",
   "metadata": {},
   "source": [
    "## Install and Import required libraries"
   ]
  },
  {
   "cell_type": "code",
   "execution_count": null,
   "id": "10b40cf5",
   "metadata": {},
   "outputs": [],
   "source": [
    "!pip install vastpy\n",
    "!pip install vastdb\n",
    "!pip install boto3==1.35.0"
   ]
  },
  {
   "cell_type": "code",
   "execution_count": null,
   "id": "467ad4b7",
   "metadata": {},
   "outputs": [],
   "source": [
    "import vastdb\n",
    "from vastpy import VASTClient\n",
    "\n",
    "import pyarrow as pa\n",
    "import pyarrow.compute as pc\n",
    "import pyarrow.parquet as pq\n",
    "import pandas as pd\n",
    "import json\n",
    "from datetime import datetime, timedelta\n",
    "import pytz\n",
    "import random\n",
    "import time\n",
    "import psutil\n",
    "import os\n",
    "import re\n",
    "import io\n",
    "import sys\n",
    "import uuid\n",
    "import logging\n",
    "import ftplib\n",
    "from IPython.display import display, HTML\n",
    "import ipaddress\n",
    "import boto3\n",
    "from botocore.config import Config"
   ]
  },
  {
   "cell_type": "markdown",
   "id": "2886c2a5-90cd-4479-a6db-91f5cf50783b",
   "metadata": {},
   "source": [
    "## Define Variables"
   ]
  },
  {
   "cell_type": "markdown",
   "id": "4c9517c1-b306-4a62-ad6e-81d8ab6ed563",
   "metadata": {},
   "source": [
    "### Required VMS Information"
   ]
  },
  {
   "cell_type": "code",
   "execution_count": null,
   "id": "ee8d6abd-d13d-4794-a68c-d2c30745d64a",
   "metadata": {},
   "outputs": [],
   "source": [
    "vastvms_endpoint = '[VMS IP]'\n",
    "vms_username = \"admin\"\n",
    "vms_password = \"123456\"\n",
    "vip_pool_name = \"[VIP POOL NAME]\"\n",
    "\n",
    "tenant_id = 1    #Default\n",
    "#\n",
    "# Create a Unique ID for this run of the Notebook.\n",
    "#\n",
    "demo_suffix = str(uuid.uuid4()).split(\"-\")[-1]\n",
    "print(f\"All VMS Objects will be created with a suffix of {demo_suffix }\")"
   ]
  },
  {
   "cell_type": "markdown",
   "id": "9ff53cc3-2c95-4ec9-aafc-f679a012ae93",
   "metadata": {},
   "source": [
    "### SDK Logging"
   ]
  },
  {
   "cell_type": "code",
   "execution_count": null,
   "id": "dc4d552b-b415-495e-894c-87b45d4a6ebb",
   "metadata": {},
   "outputs": [],
   "source": [
    "# Create a logger\n",
    "logging.basicConfig(\n",
    "    level=logging.INFO,    \n",
    "    format='%(asctime)s - %(levelname)s - %(funcName)s - %(message)s', \n",
    "    handlers=[\n",
    "        logging.FileHandler('vastdb_sdk.log', mode = 'a'), \n",
    "        logging.StreamHandler()  # Log to console\n",
    "    ]\n",
    ")\n",
    "logger = logging.getLogger()\n",
    "log = logging.getLogger(__name__)\n"
   ]
  },
  {
   "cell_type": "markdown",
   "id": "2a35476a-6774-4d90-b85d-a4938e0a34d4",
   "metadata": {},
   "source": [
    "## Define Functions"
   ]
  },
  {
   "cell_type": "markdown",
   "id": "5d273cb4-3b48-4936-9665-554fef2b6c97",
   "metadata": {},
   "source": [
    "## Setup VAST Cluster and Database"
   ]
  },
  {
   "cell_type": "markdown",
   "id": "d48d3690-58dd-44e9-972d-a91709d2cef4",
   "metadata": {},
   "source": [
    "<h3>Create VMS Client Connection to Cluster</h3>"
   ]
  },
  {
   "cell_type": "markdown",
   "id": "3c265109-ced5-44e7-a8c7-9e3e36545084",
   "metadata": {},
   "source": [
    "[VASTPY .0.3.13 Documentation](https://pypi.org/project/vastpy/)"
   ]
  },
  {
   "cell_type": "code",
   "execution_count": null,
   "id": "be9f4995-9919-45cd-991e-db449d8f1bc5",
   "metadata": {},
   "outputs": [],
   "source": [
    "# Connect to the VAST Cluster using VASTPY.\n",
    "client = VASTClient(user=vms_username, password=vms_password, address=vastvms_endpoint, version='latest')"
   ]
  },
  {
   "cell_type": "markdown",
   "id": "fa379854-5dfe-4d0e-b68a-6b4c74b0881d",
   "metadata": {},
   "source": [
    "### Verify VIP Pool is Available"
   ]
  },
  {
   "cell_type": "code",
   "execution_count": null,
   "id": "f670fd1f-e82b-4a75-99b9-7f6b5634558a",
   "metadata": {},
   "outputs": [],
   "source": [
    "#\n",
    "# Query for VIP Pool\n",
    "#\n",
    "vip_pool_id = None\n",
    "try: \n",
    "    vip_pool = client.vippools.get(name=vip_pool_name)\n",
    "    vip_pool_id = vip_pool[0]['id']\n",
    "    vip_pool_ip = vip_pool[0]['start_ip']\n",
    "    vip_pool_range = vip_pool[0]['ip_ranges']\n",
    "    vastdb_endpoint = f\"http://{vip_pool_ip}\"\n",
    "except Exception as e:\n",
    "   log.critical(f\"Error during VMS client Query of VIP POOLS: {e}\")\n",
    "\n",
    "if vip_pool_id and vip_pool[0]['kafka_view_id']:\n",
    "   log.critical(f\"The VIP Pool {vip_pool_name} is already associated with View ID {vip_pool_id}, correct before continuing.\") \n",
    "elif vip_pool_id:\n",
    "   log.info(f\"The VIP Pool {vip_pool_name} will be used for S3, Database and Kafka access.\")\n",
    "    \n",
    "    \n",
    "    "
   ]
  },
  {
   "cell_type": "markdown",
   "id": "673a952d-7c97-4e53-b8f4-303097ab8551",
   "metadata": {},
   "source": [
    "### Create Tabular Identity Policy"
   ]
  },
  {
   "cell_type": "code",
   "execution_count": null,
   "id": "6a4db6c2-26a5-4327-b342-6a80ace4b462",
   "metadata": {},
   "outputs": [],
   "source": [
    "identitypolicy_name = f\"S3-Events-Ident-{demo_suffix}\"\n",
    "\n",
    "def create_identity_policy(client, name, tenant_id):   \n",
    "    \"\"\" Create an Identity Policy for Tabular Access \"\"\"\n",
    "    policy = {\n",
    "        \"Version\": \"2012-10-17\",\n",
    "        \"Statement\": [\n",
    "            {\n",
    "                \"Sid\": \"Read_write_ALL_DB\",\n",
    "                \"Action\": \"s3:Tabular*\",\n",
    "                \"Effect\": \"Allow\",\n",
    "                \"Resource\": \"arn:aws:s3:::*\"\n",
    "            }\n",
    "        ]\n",
    "    }\n",
    "    payload = {\n",
    "        \"name\": name,\n",
    "        \"policy\": json.dumps(policy, indent=2),  \n",
    "        \"tenant_id\": tenant_id,\n",
    "    }   \n",
    "    \n",
    "    try:\n",
    "        identity_policy = client.s3policies.post(**payload)\n",
    "        return identity_policy\n",
    "    except Exception as e:\n",
    "        log.critical(e)\n",
    "        raise e\n",
    "\n",
    "\n",
    "identity_policy   = create_identity_policy(client, identitypolicy_name, tenant_id)\n",
    "identitypolicy_id = identity_policy['id']\n",
    "log.info(f\"Identity Policy ID: {identitypolicy_id}\")"
   ]
  },
  {
   "cell_type": "markdown",
   "id": "05044a3a-3e65-4d27-9dbd-ded59523266c",
   "metadata": {},
   "source": [
    "### Create Local User and Secret / Access Keys"
   ]
  },
  {
   "cell_type": "code",
   "execution_count": null,
   "id": "fe42e57d-175a-4821-8d09-71bec584cb3c",
   "metadata": {},
   "outputs": [],
   "source": [
    "local_user_name = f\"S3-Events-Usr-{demo_suffix}\"\n",
    "local_user_id = \"2147483\" + str(random.randint(100, 600))\n",
    "\n",
    "def create_local_user(client, LocalUser, local_user_id, IdentityPolicy_id, tenant_id): \n",
    "    \"\"\" Create a Local User on Cluster \"\"\"\n",
    "    payload = {\"name\": LocalUser,\n",
    "              \"uid\": local_user_id,\n",
    "              \"local_provider_id\": 1, \n",
    "        \t  \"allow_create_bucket\":\"true\",\n",
    "        \t  \"allow_delete_bucket\":\"false\",\n",
    "        \t  \"s3_policies_ids\":[IdentityPolicy_id]}\n",
    "    try:\n",
    "        local_user = client.users.post(**payload)\n",
    "        return local_user\n",
    "    except Exception as e:\n",
    "        log.critical(e)\n",
    "        raise e\n",
    "\n",
    "#\n",
    "# Call VMS API\n",
    "#\n",
    "local_user = create_local_user(client, local_user_name, local_user_id, identitypolicy_id, tenant_id)\n",
    "if local_user:\n",
    "  local_user_id = local_user['id']\n",
    "  try:\n",
    "        response = client.users[local_user_id].access_keys.post(id=local_user_id, tenant_id=tenant_id)\n",
    "        S3_ACCESS_KEY = response['access_key']\n",
    "        S3_SECRET_KEY = response['secret_key']\n",
    "        log.info(f\"Local User '{local_user_name}' now has S3 Keys.\")\n",
    "  except Exception as e:\n",
    "        log.critical(e)\n",
    "        raise e"
   ]
  },
  {
   "cell_type": "markdown",
   "id": "8999cf84-9ac8-4bfa-b331-708d96e4ae2f",
   "metadata": {},
   "source": [
    "### Create Native S3 View Policy for: Database, S3 Bucket, and Event Broker"
   ]
  },
  {
   "cell_type": "code",
   "execution_count": null,
   "id": "c446c0a3-c08b-4a77-8e8a-1936096e7bd3",
   "metadata": {},
   "outputs": [],
   "source": [
    "view_policy_name = f\"s3-events-vp-{demo_suffix}\"\n",
    "\n",
    "def create_view_policy(client, LocalUser, name, vip_pool_id, tenant_id):\n",
    "    \"\"\" Create a View Policy for Database access \"\"\"\n",
    "    vip_pool_permission = { vip_pool_id : \"RW\"}\n",
    "    payload = {\"name\": name,\n",
    "                \"flavor\" : \"S3_NATIVE\",\n",
    "                \"permission_per_vip_pool\": vip_pool_permission,\n",
    "                \"tenant_id\": tenant_id,\n",
    "                \"s3_visibility\":[LocalUser]\n",
    "                }\n",
    "    try:\n",
    "        view_policy = client.viewpolicies.post(**payload)\n",
    "        return view_policy\n",
    "    except Exception as e:\n",
    "        log.critical(e)\n",
    "        raise e\n",
    "#\n",
    "# Query for VIP Pool\n",
    "#\n",
    "vip_pool_id = None\n",
    "try: \n",
    "    vip_pool = client.vippools.get(name=vip_pool_name)\n",
    "    vip_pool_id = vip_pool[0]['id']\n",
    "    vip_pool_ip = vip_pool[0]['start_ip']\n",
    "    vastdb_endpoint = f\"http://{vip_pool_ip}\"\n",
    "except Exception as e:\n",
    "   log.critical(f\"Error during VMS client Query of VIP POOLS: {e}\")\n",
    "\n",
    "if vip_pool_id:\n",
    "  print(f\"The '{vip_pool_name}' VIP Pool was found and has an ID of {vip_pool_id}.\")\n",
    "  print(f\"The S3 Bucket, VAST Database and Kafka Event Broker will be accessed using the VIP of {vastdb_endpoint}.\") \n",
    "  log.info(f\"Creating View Policy: {view_policy_name}.\")  \n",
    "  view_policy = create_view_policy(client, local_user_name, view_policy_name, vip_pool_id, tenant_id)\n",
    "  viewpolicy_id = view_policy['id'] \n",
    "    \n",
    "if view_policy:\n",
    "  log.info(f\"View Policy ID {viewpolicy_id} created.\")\n",
    "else:\n",
    "  log.critical(f\"Failed to create View Policy.\")  \n",
    "\n"
   ]
  },
  {
   "cell_type": "markdown",
   "id": "4c9fc8ce-5125-4ac2-a54c-85b3aa26cef8",
   "metadata": {},
   "source": [
    "### Create Kafka Event Broker (View)"
   ]
  },
  {
   "cell_type": "code",
   "execution_count": null,
   "id": "d504a800-f44b-450b-9bf4-a29ece1a45cb",
   "metadata": {},
   "outputs": [],
   "source": [
    "kafka_name = f\"s3-events-kafka-{demo_suffix}\"\n",
    "def create_kafka_view(client, LocalUser, name, tenant_id):\n",
    "    view_path = f\"/{name}\"\n",
    "    payload = {\n",
    "     \"path\": view_path,\n",
    "     \"bucket\": name,\n",
    "     \"bucket_owner\": LocalUser,\n",
    "     \"policy_id\": viewpolicy_id,\n",
    "     \"tenant_id\": tenant_id,\n",
    "     \"protocols\":[\"KAFKA\",\"S3\",\"DATABASE\"],\n",
    "     \"kafka_vip_pools\": [vip_pool_id],\n",
    "     \"s3_object_ownership_rule\":\"ObjectWriter\",\n",
    "     \"create_dir\":True\n",
    "    }\n",
    "    try:\n",
    "        kafka_view = client.views.post(**payload)\n",
    "        log.info(f\"Kafka view {name} created.\")\n",
    "        return kafka_view\n",
    "    except Exception as e:\n",
    "        log.critical(e)\n",
    "        raise e\n",
    "        \n",
    "kafka_view = create_kafka_view(client, local_user_name, kafka_name, tenant_id)\n",
    "\n",
    "    \n",
    "if kafka_view:\n",
    "  kafka_view_id = kafka_view['id'] \n",
    "  log.info(f\"Kafka View ID {kafka_view_id} created.\")\n",
    "else:\n",
    "  log.critical(f\"Failed to create Kafka View.\") "
   ]
  },
  {
   "cell_type": "markdown",
   "id": "f040772f-d5c1-4493-aec2-a053ff849088",
   "metadata": {},
   "source": [
    "### Create Kafka Topic"
   ]
  },
  {
   "cell_type": "code",
   "execution_count": null,
   "id": "e745e6bc-cd78-42a3-b5f2-4cac8bbbd3c9",
   "metadata": {},
   "outputs": [],
   "source": [
    "kafka_topic = f\"s3-events-topic-{demo_suffix}\"\n",
    "def create_kafka_topic(client, eb_name, name, tenant_id):\n",
    "    payload = {\"database_name\": eb_name,\n",
    "               \"schema_name\":\"kafka_topics\",\n",
    "               \"name\": name,\n",
    "               \"topic_partitions\":1,\n",
    "               \"retention_ms\":21600000,\n",
    "               \"tenant_id\": tenant_id}\n",
    "    \n",
    "    try:\n",
    "        kafka_topic = client.topics.post(**payload)\n",
    "        log.info(f\"Kafka topic {name} created for Event Broker {eb_name}.\")\n",
    "        return kafka_topic\n",
    "    except Exception as e:\n",
    "        log.critical(e)\n",
    "        raise e\n",
    "\n",
    "kafka_topic_obj = create_kafka_topic(client, kafka_name, kafka_topic, tenant_id)\n",
    "\n",
    "if kafka_topic_obj:\n",
    "  log.critical(f\"Failed to Kafka Topic.\") \n"
   ]
  },
  {
   "cell_type": "markdown",
   "id": "86377c92-6ee6-4d43-862d-2955dbd1b293",
   "metadata": {},
   "source": [
    "### Configure Cluster Event Notificaiton Broker"
   ]
  },
  {
   "cell_type": "code",
   "execution_count": null,
   "id": "83a10b27-b9da-4154-8949-3a9ed699001d",
   "metadata": {},
   "outputs": [],
   "source": [
    "cluster_eb_name =  f\"s3-events-eb-{demo_suffix}\"\n",
    "\n",
    "def create_eb(client, eb_name, vip_pool_range):\n",
    "    \n",
    "    start_ip = ipaddress.IPv4Address(vip_pool_range[0][0])\n",
    "    end_ip = ipaddress.IPv4Address(vip_pool_range[0][1])\n",
    "    \n",
    "    hosts = [str(ip) for ip in range(int(start_ip), int(end_ip) + 1)]\n",
    "    \n",
    "    result = [\n",
    "        {\"host\": str(ipaddress.IPv4Address(ip)), \"port\": 9092}\n",
    "        for ip in range(int(start_ip), int(end_ip) + 1)\n",
    "    ]\n",
    "\n",
    "    payload = {\"name\": eb_name,\n",
    "               \"addresses\": result}\n",
    "    \n",
    "    try:\n",
    "        eb = client.kafkabrokers.post(**payload)\n",
    "        log.info(f\"Event Broker {eb_name} created.\")\n",
    "        return eb\n",
    "    except Exception as e:\n",
    "        log.critical(e)\n",
    "        raise e\n",
    "\n",
    "eb = create_eb(client, cluster_eb_name, vip_pool_range)\n",
    "\n",
    "    \n",
    "if eb:\n",
    "  eb_id = eb['id'] \n",
    "  log.info(f\"Notification Broker ID {eb_id} created.\")\n",
    "else:\n",
    "  log.critical(f\"Failed to create Notification Broker.\") "
   ]
  },
  {
   "cell_type": "markdown",
   "id": "f2f43cce-ac6b-44cc-b2d1-3b8625d1355a",
   "metadata": {},
   "source": [
    "### Create S3 Bucket and Configure Notifications"
   ]
  },
  {
   "cell_type": "code",
   "execution_count": null,
   "id": "4fec11a4-0bc8-41b2-8609-2d88016b5b8c",
   "metadata": {},
   "outputs": [],
   "source": [
    "S3_bucket_name = f\"s3-events-bkt-{demo_suffix}\"\n",
    "def create_S3_bucket(client, LocalUser, name, tenant_id):\n",
    "    S3_path = f\"/{name}\"\n",
    "    payload = {\n",
    "     \"path\": S3_path,\n",
    "     \"bucket\": name,\n",
    "     \"bucket_owner\": LocalUser,\n",
    "     \"policy_id\": viewpolicy_id,\n",
    "     \"tenant_id\": tenant_id,\n",
    "     \"protocols\":[\"S3\"],\n",
    "     \"s3_object_ownership_rule\":\"ObjectWriter\",\n",
    "     \"event_notifications\":[{\"name\": cluster_eb_name,\n",
    "                         \"topic\": kafka_topic,\n",
    "\t\t\t\t\t\t \"broker_id\": eb_id,\n",
    "\t\t\t\t\t\t \"triggers\":[\"S3_OBJECT_CREATED_ALL\",\"S3_OBJECT_TAGGING_ALL\",\"S3_OBJECT_REMOVED_ALL\"],\n",
    "\t\t\t\t\t\t \"prefix_filter\":\"\",\n",
    "\t\t\t\t\t\t \"suffix_filter\":\"\"}],   \n",
    "     \"create_dir\":True\n",
    "    }\n",
    "    \n",
    "    try:\n",
    "        S3_view = client.views.post(**payload)\n",
    "        log.info(f\"S3 bucket {name} created.\")\n",
    "        return S3_view\n",
    "    except Exception as e:\n",
    "        log.critical(e)\n",
    "        raise e\n",
    "        \n",
    "S3_view = create_S3_bucket(client, local_user_name, S3_bucket_name, tenant_id)\n",
    "\n",
    "    \n",
    "if S3_view:\n",
    "  S3_view_id = S3_view['id'] \n",
    "  log.info(f\"S3 View ID {S3_view_id} created.\")\n",
    "else:\n",
    "  log.critical(f\"Failed to create S3 View / bucket.\") "
   ]
  },
  {
   "cell_type": "markdown",
   "id": "af712608-f4f0-4f78-8855-38e40e8457cb",
   "metadata": {},
   "source": [
    "### Create VAST Database"
   ]
  },
  {
   "cell_type": "code",
   "execution_count": null,
   "id": "950667cc-9cb2-4b4c-9a6d-6345e1ccd083",
   "metadata": {},
   "outputs": [],
   "source": [
    "vastdb_bucket = f\"s3-events-db-{demo_suffix}\"\n",
    "vastdb_path = f\"/{vastdb_bucket}\"\n",
    "\n",
    "def create_database_view(client, vastdb_bucket, viewpolicy_id, vastdb_path,  LocalUser, tenant_id):\n",
    "    \"\"\" Create a VAST Database, assumes directory needs to be created.\"\"\"\n",
    "    payload = {\"bucket\": vastdb_bucket,\n",
    "               \"path\": vastdb_path,\n",
    "               \"policy\": viewpolicy_id,\n",
    "               \"bucket_owner\":LocalUser,\n",
    "               \"policy_id\": viewpolicy_id,\n",
    "               \"protocols\":[\"DATABASE\",\"S3\"],\n",
    "               \"share_acl\":{\"acl\":[],\"enabled\":\"false\"},\n",
    "               \"create_dir\":\"true\",\n",
    "               \"tenant_id\": tenant_id}\n",
    "    try:\n",
    "        db = client.views.post(**payload)\n",
    "        return db\n",
    "    except Exception as e:\n",
    "        log.critical(e)\n",
    "        raise e\n",
    "        \n",
    "db =  create_database_view(client, \n",
    "                          vastdb_bucket, \n",
    "                          viewpolicy_id,\n",
    "                          vastdb_path,\n",
    "                          local_user_name,\n",
    "                          tenant_id\n",
    "            )\n",
    "if db:\n",
    "   vastdb_id = db['id']\n",
    "   log.info(f\"The Database was created at {db['created']}\")\n",
    "else:\n",
    "   log.critical(\"Failed to created Database view.\") "
   ]
  },
  {
   "cell_type": "markdown",
   "id": "663646a5-8e5b-4d47-a294-93814380a743",
   "metadata": {},
   "source": [
    "## Export Demo State to Disk"
   ]
  },
  {
   "cell_type": "code",
   "execution_count": null,
   "id": "69f0dc3b-babe-40e4-80f3-b678971db7c2",
   "metadata": {},
   "outputs": [],
   "source": [
    "# List of variable names as strings\n",
    "var_names = [\n",
    "    \"vastvms_endpoint\", \"vms_username\", \"vms_password\",\n",
    "    \"vip_pool_name\", \"vip_pool_ip\", \"tenant_id\", \"identitypolicy_name\",\n",
    "    \"identitypolicy_id\", \"local_user_name\", \"local_user_id\",\n",
    "    \"S3_ACCESS_KEY\", \"S3_SECRET_KEY\", \"view_policy_name\",\n",
    "    \"viewpolicy_id\", \"kafka_name\", \"kafka_view_id\",\n",
    "    \"kafka_topic\", \"cluster_eb_name\", \"eb_id\",\n",
    "    \"S3_bucket_name\", \"S3_view_id\", \"vastdb_bucket\",\n",
    "    \"vastdb_path\", \"database_id\", \"demo_suffix\"\n",
    "]\n",
    "\n",
    "\n",
    "# Build a dictionary of {variable_name: value}\n",
    "data_to_save = {name: globals()[name] for name in var_names if name in globals()}\n",
    "\n",
    "# Write to a JSON file\n",
    "with open(\"demo_state.json\", \"w\") as f:\n",
    "    json.dump(data_to_save, f, indent=2)\n"
   ]
  },
  {
   "cell_type": "markdown",
   "id": "ddcd6746-4bc2-4653-9353-869f22f25f09",
   "metadata": {},
   "source": [
    "## Login to VMS and review configuration."
   ]
  },
  {
   "cell_type": "markdown",
   "id": "a1e314de-0a83-4b36-90f4-0d54aec943c5",
   "metadata": {},
   "source": [
    "* Local User with S3 keys and Identity Policy\n",
    "* 3 Views Created (DB, Bucket, Kafka)\n",
    "* Cluster Notification Broker configured\n",
    "* Review S3 Notification configuration and review options (multiple topics for prefix/suffix)\n"
   ]
  },
  {
   "cell_type": "markdown",
   "id": "3c684bbc-4063-4bf6-b124-54ef3b0bbe2f",
   "metadata": {},
   "source": [
    "## Setup VAST DB "
   ]
  },
  {
   "cell_type": "markdown",
   "id": "58a843ea-668f-49cf-9d39-c393459ad76f",
   "metadata": {},
   "source": [
    "> Switch to the S3 Events VAST DB Notebook to complete the setup."
   ]
  },
  {
   "cell_type": "markdown",
   "id": "26ebeceb-5cbd-4e9f-8a68-9ed66b290ea7",
   "metadata": {},
   "source": [
    "## Cleanup Cluster"
   ]
  },
  {
   "cell_type": "markdown",
   "id": "6693279e-8d73-4945-9a84-25ebf69ba47d",
   "metadata": {},
   "source": [
    "### Load Demo State and define variables"
   ]
  },
  {
   "cell_type": "code",
   "execution_count": null,
   "id": "82c33227-3b02-4145-8aba-905fce2d16fa",
   "metadata": {},
   "outputs": [],
   "source": [
    "# Read in the Demo Variables and values.\n",
    "with open(\"demo_state.json\", \"r\") as f:\n",
    "    data = json.load(f)\n",
    "# Dynamically create python variables needed for the Demo.\n",
    "for key, value in data.items():\n",
    "    globals()[key] = value"
   ]
  },
  {
   "cell_type": "markdown",
   "id": "7f55a58a-e00a-467b-81e5-3ef3d10f9ae7",
   "metadata": {},
   "source": [
    "### Delete Tables"
   ]
  },
  {
   "cell_type": "code",
   "execution_count": null,
   "id": "92b64eba-b1fa-49a9-b5ca-e45626587a5a",
   "metadata": {},
   "outputs": [],
   "source": [
    "#\n",
    "# Establish Session with VAST database\n",
    "#\n",
    "endpoint_url = f\"http://{vip_pool_ip}\"\n",
    "session = {}\n",
    "try:\n",
    "    session = vastdb.connect(\n",
    "              endpoint=endpoint_url,\n",
    "              access=S3_ACCESS_KEY,\n",
    "              secret=S3_SECRET_KEY\n",
    "             )\n",
    "except Exception as e:\n",
    "    log.critical(e)\n",
    "if session:\n",
    "   log.info(\"VAST DB Session started\")\n",
    "else:\n",
    "   log.critical(\"Unable to connect to VAST DB.\")"
   ]
  },
  {
   "cell_type": "code",
   "execution_count": null,
   "id": "9a6b7bad-19e1-499a-82b7-9285c09d5643",
   "metadata": {},
   "outputs": [],
   "source": [
    "with session.transaction() as tx:\n",
    "    bucket = tx.bucket(vastdb_bucket)\n",
    "    schema = bucket.schema(demo_suffix)\n",
    "    tables = schema.tables()\n",
    "    for table in tables: \n",
    "        print(f\"Deleting table '{table.name}' in schema '{schema.name}' for database '{vastdb_bucket}'.\")\n",
    "        table.drop()\n",
    "    # Query new_schema for tables\n",
    "    tables = schema.tables()\n",
    "    \n",
    "if tables:\n",
    "    print(f\"The following Tables are in the Schema '{schema.name}':\")\n",
    "    for table in tables:\n",
    "        print(table.name)\n",
    "else:\n",
    "    print(\"No Tables in Schema\")  "
   ]
  },
  {
   "cell_type": "markdown",
   "id": "b83c22d1-1f24-41e1-8ee6-53bc18bd33e9",
   "metadata": {},
   "source": [
    "### Delete Schema"
   ]
  },
  {
   "cell_type": "code",
   "execution_count": null,
   "id": "5c3c5e1f-684f-4203-8c81-92fbe53151ce",
   "metadata": {},
   "outputs": [],
   "source": [
    "with session.transaction() as tx:\n",
    "    bucket = tx.bucket(vastdb_bucket)\n",
    "    schema = bucket.schema(demo_suffix)\n",
    "    schema.drop()\n",
    "    schemas = bucket.schemas()\n",
    "\n",
    "print(f\"The schemas in the database {vastdb_bucket} are:\")\n",
    "for schema in schemas:\n",
    "    print(schema.name)\n",
    "       "
   ]
  },
  {
   "cell_type": "markdown",
   "id": "b3873552-dd40-4c78-8cf0-b5af616e3e9f",
   "metadata": {},
   "source": [
    "### Delete Database"
   ]
  },
  {
   "cell_type": "code",
   "execution_count": null,
   "id": "570e2e3f-985d-4dee-8beb-b5597c6862ea",
   "metadata": {},
   "outputs": [],
   "source": [
    "try:\n",
    "    client.views[vastdb_id].delete()\n",
    "except Exception as e:\n",
    "        print(e)\n",
    "    "
   ]
  },
  {
   "cell_type": "markdown",
   "id": "dea9a3bf-eb98-47c1-ac4e-ed871a5f7e5e",
   "metadata": {},
   "source": [
    "### Delete S3 Bucket"
   ]
  },
  {
   "cell_type": "code",
   "execution_count": null,
   "id": "59070824-348b-46ae-a6de-39f2fd3381c2",
   "metadata": {},
   "outputs": [],
   "source": [
    "#\n",
    "# Purge Objects from Bucket\n",
    "#\n",
    "endpoint_url = f\"http://{vip_pool_ip}\"\n",
    "s3_client = boto3.client(\n",
    "    's3',\n",
    "    endpoint_url=endpoint_url,\n",
    "    aws_access_key_id=S3_ACCESS_KEY,\n",
    "    aws_secret_access_key=S3_SECRET_KEY,\n",
    "    config=Config(signature_version='s3v4', \n",
    "                  parameter_validation=False, \n",
    "                  s3={'payload_signing_enabled':False,'addressing_style':'path','checksum_algorithm': None}\n",
    "                 ),\n",
    "    verify=False  # Set to False if the endpoint doesn't use SSL (http)\n",
    ")\n",
    "paginator = s3_client.get_paginator('list_objects_v2')\n",
    "pages = paginator.paginate(Bucket=S3_bucket_name)\n",
    "\n",
    "objects_to_delete = []\n",
    "\n",
    "for page in pages:\n",
    "    if 'Contents' in page:\n",
    "        for obj in page['Contents']:\n",
    "            objects_to_delete.append({'Key': obj['Key']})\n",
    "\n",
    "            # Delete in batches of 1000 (API limit)\n",
    "            if len(objects_to_delete) == 1000:\n",
    "                s3.delete_objects(Bucket=S3_bucket_name, Delete={'Objects': objects_to_delete})\n",
    "                objects_to_delete = []\n",
    "\n",
    "# Delete any remaining objects\n",
    "if objects_to_delete:\n",
    "    s3_client.delete_objects(Bucket=S3_bucket_name, Delete={'Objects': objects_to_delete})\n",
    "\n",
    "print(f\"All objects deleted from bucket '{S3_bucket_name}'.\")\n",
    "\n",
    "#\n",
    "# Remove S3 View\n",
    "#\n",
    "try:\n",
    "    client.views[S3_view_id].delete()\n",
    "except Exception as e:\n",
    "        print(e)"
   ]
  },
  {
   "cell_type": "markdown",
   "id": "2012c881-0cdd-4b0f-bf30-db88cf8fb9bb",
   "metadata": {},
   "source": [
    "### Remove Event Notification Broker Configuration"
   ]
  },
  {
   "cell_type": "code",
   "execution_count": null,
   "id": "5a9a0e36-e14b-49d5-8cf4-a94c2ae52024",
   "metadata": {},
   "outputs": [],
   "source": [
    "try:\n",
    "    client.kafkabrokers[eb_id].delete()\n",
    "except Exception as e:\n",
    "        print(e)"
   ]
  },
  {
   "cell_type": "markdown",
   "id": "8162ba24-bd53-470d-84b5-14b45f8ba1b3",
   "metadata": {},
   "source": [
    "### Remove Kafka View"
   ]
  },
  {
   "cell_type": "code",
   "execution_count": null,
   "id": "48b48c54-85de-4c21-84b1-5497afd30ffc",
   "metadata": {},
   "outputs": [],
   "source": [
    "#\n",
    "# Remove Topic\n",
    "# \n",
    "payload = {\"database_name\":kafka_name,\n",
    "          \"schema_name\":\"kafka_topics\",\n",
    "          \"name\":kafka_topic,\n",
    "          \"tenant_id\":tenant_id }\n",
    "\n",
    "try:\n",
    "    client.topics.delete(**payload)\n",
    "except Exception as e:\n",
    "    log.critical(e)\n",
    "    raise e"
   ]
  },
  {
   "cell_type": "code",
   "execution_count": null,
   "id": "7cb83938-7beb-4d08-966c-a6cc7cd97d27",
   "metadata": {},
   "outputs": [],
   "source": [
    "#\n",
    "# Remove Kafka Schema\n",
    "# \n",
    "payload = {\"database_name\":kafka_name,\n",
    "           \"name\":\"kafka_topics\",\n",
    "           \"tenant_id\": tenant_id}\n",
    "try:\n",
    "    client.schemas.delete(**payload)\n",
    "except Exception as e:\n",
    "    log.critical(e)\n",
    "    raise e\n",
    "\n",
    "#\n",
    "# Remove Kafka View\n",
    "# \n",
    "try:\n",
    "    client.views[kafka_view_id].delete()\n",
    "except Exception as e:\n",
    "        print(e)"
   ]
  },
  {
   "cell_type": "markdown",
   "id": "200437e2-7ee6-47ca-a1bc-883f2430cac8",
   "metadata": {},
   "source": [
    "### Delete View Policy"
   ]
  },
  {
   "cell_type": "code",
   "execution_count": null,
   "id": "16b42c3b-31d1-4118-9f9e-f3be40e9ec30",
   "metadata": {},
   "outputs": [],
   "source": [
    "try:\n",
    "    client.viewpolicies[viewpolicy_id].delete()\n",
    "except Exception as e:\n",
    "        print(e)"
   ]
  },
  {
   "cell_type": "markdown",
   "id": "f805dbb6-d8cf-40dc-9c9c-b4b630734f56",
   "metadata": {},
   "source": [
    "### Delete SDK Demo User"
   ]
  },
  {
   "cell_type": "code",
   "execution_count": null,
   "id": "178bc5a2-7145-49d6-8743-7ec02291a812",
   "metadata": {},
   "outputs": [],
   "source": [
    "try:\n",
    "    client.users[local_user_id].delete()\n",
    "except Exception as e:\n",
    "        print(e)"
   ]
  },
  {
   "cell_type": "markdown",
   "id": "1e2fc179-cb75-4a54-86c8-630f380071fd",
   "metadata": {},
   "source": [
    "### Delete Identity Policy"
   ]
  },
  {
   "cell_type": "code",
   "execution_count": null,
   "id": "5d55286e-d063-4f21-bc60-0684a511cfcd",
   "metadata": {},
   "outputs": [],
   "source": [
    "try:\n",
    "    client.s3policies[identitypolicy_id].delete()\n",
    "except Exception as e:\n",
    "        print(e)"
   ]
  },
  {
   "cell_type": "code",
   "execution_count": null,
   "id": "d9a24fc4-9785-431c-8e9e-dcb65ed7f424",
   "metadata": {},
   "outputs": [],
   "source": [
    "\"\"\"\n",
    "      END of Script\n",
    "\"\"\""
   ]
  },
  {
   "cell_type": "code",
   "execution_count": null,
   "id": "58229d21-c3ad-41f9-b42a-16cbc05f8ca2",
   "metadata": {},
   "outputs": [],
   "source": []
  }
 ],
 "metadata": {
  "kernelspec": {
   "display_name": "Python 3 (ipykernel)",
   "language": "python",
   "name": "python3"
  },
  "language_info": {
   "codemirror_mode": {
    "name": "ipython",
    "version": 3
   },
   "file_extension": ".py",
   "mimetype": "text/x-python",
   "name": "python",
   "nbconvert_exporter": "python",
   "pygments_lexer": "ipython3",
   "version": "3.10.12"
  }
 },
 "nbformat": 4,
 "nbformat_minor": 5
}
